{
 "cells": [
  {
   "cell_type": "markdown",
   "id": "middle-leader",
   "metadata": {
    "id": "middle-leader"
   },
   "source": [
    "# Image Classification project"
   ]
  },
  {
   "cell_type": "code",
   "execution_count": 1,
   "id": "italic-diesel",
   "metadata": {
    "id": "italic-diesel"
   },
   "outputs": [],
   "source": [
    "import numpy as np\n",
    "import tensorflow as tf\n",
    "from tensorflow.keras import models,layers\n",
    "from tensorflow import keras\n",
    "import matplotlib.pyplot as plt\n",
    "import pandas as pd"
   ]
  },
  {
   "cell_type": "code",
   "execution_count": 2,
   "id": "comic-provider",
   "metadata": {
    "colab": {
     "base_uri": "https://localhost:8080/"
    },
    "id": "comic-provider",
    "outputId": "3b499ba3-bd10-4cc6-b387-6c2b98af4b9b"
   },
   "outputs": [
    {
     "name": "stdout",
     "output_type": "stream",
     "text": [
      "Shape and dimension of fashion_data : (60000, 28, 28) 3\n",
      "Shape and dimension of fashion_datalbl : (60000,) 1\n"
     ]
    }
   ],
   "source": [
    "path=\"fashion_mnist_dataset_train.npy\"\n",
    "f = np.load(path, allow_pickle=True)\n",
    "fashion=f.item()\n",
    "fashion_data=fashion['features']\n",
    "fashion_lbl=fashion['target']\n",
    "print(\"Shape and dimension of fashion_data :\",fashion_data.shape,fashion_data.ndim)\n",
    "print(\"Shape and dimension of fashion_datalbl :\",fashion_lbl.shape,fashion_lbl.ndim)"
   ]
  },
  {
   "cell_type": "code",
   "execution_count": 3,
   "id": "tested-branch",
   "metadata": {
    "id": "tested-branch"
   },
   "outputs": [],
   "source": [
    "# fashion_data=fashion_data.reshape((60000,28,28,1))\n",
    "# print(fashion_data.shape)"
   ]
  },
  {
   "cell_type": "code",
   "execution_count": 4,
   "id": "legal-novel",
   "metadata": {
    "colab": {
     "base_uri": "https://localhost:8080/",
     "height": 269
    },
    "id": "legal-novel",
    "outputId": "bdeab202-5f76-49b1-d026-2767d427fa49"
   },
   "outputs": [
    {
     "data": {
      "image/png": "[encoded data removed]",
      "text/plain": [
       "<Figure size 432x288 with 2 Axes>"
      ]
     },
     "metadata": {
      "needs_background": "light"
     },
     "output_type": "display_data"
    }
   ],
   "source": [
    "# Showing image\n",
    "plt.figure()\n",
    "plt.imshow(fashion_data[0])\n",
    "plt.colorbar()\n",
    "plt.show()"
   ]
  },
  {
   "cell_type": "markdown",
   "id": "upper-panel",
   "metadata": {
    "id": "upper-panel"
   },
   "source": [
    "Here I can see that data is already normalized because values of image is between 0 and 1. "
   ]
  },
  {
   "cell_type": "code",
   "execution_count": 5,
   "id": "nearby-access",
   "metadata": {
    "colab": {
     "base_uri": "https://localhost:8080/"
    },
    "id": "nearby-access",
    "outputId": "271a2bff-ed9d-4636-d757-2c6a1de2f531"
   },
   "outputs": [
    {
     "name": "stdout",
     "output_type": "stream",
     "text": [
      "(54000, 28, 28) (54000,)\n",
      "(6000, 28, 28) (6000,)\n"
     ]
    }
   ],
   "source": [
    "train_data=fashion_data[:54000]\n",
    "# val_data=fashion_data[50000:56000]\n",
    "test_data=fashion_data[54000:]\n",
    "train_lbl=fashion_lbl[:54000]\n",
    "#val_lbl=fashion_lbl[50000:56000]\n",
    "test_lbl=fashion_lbl[54000:]\n",
    "print(train_data.shape,train_lbl.shape)\n",
    "# print(val_data.shape,val_lbl.shape)\n",
    "print(test_data.shape,test_lbl.shape)"
   ]
  },
  {
   "cell_type": "code",
   "execution_count": 6,
   "id": "liable-tobacco",
   "metadata": {
    "colab": {
     "base_uri": "https://localhost:8080/"
    },
    "id": "liable-tobacco",
    "outputId": "dbde0fec-c168-4c66-e66e-da8e9a771a74"
   },
   "outputs": [
    {
     "name": "stdout",
     "output_type": "stream",
     "text": [
      "(54000, 28, 28, 1)\n",
      "(6000, 28, 28, 1)\n"
     ]
    }
   ],
   "source": [
    "# Reshaping\n",
    "train_data=train_data.reshape((54000,28,28,1))\n",
    "# val_data=val_data.reshape((6000,28,28,1))\n",
    "test_data=test_data.reshape((6000,28,28,1))\n",
    "print(train_data.shape)\n",
    "# print(val_data.shape)\n",
    "print(test_data.shape)"
   ]
  },
  {
   "cell_type": "markdown",
   "id": "a40f729b",
   "metadata": {},
   "source": [
    "## Convolution Neural Network\n",
    "### Training, Predicting, and Evaluating the model"
   ]
  },
  {
   "cell_type": "code",
   "execution_count": 7,
   "id": "regulated-france",
   "metadata": {
    "colab": {
     "base_uri": "https://localhost:8080/"
    },
    "id": "regulated-france",
    "outputId": "04f486fe-a230-4f6c-84ea-64bab4a0c611"
   },
   "outputs": [
    {
     "name": "stdout",
     "output_type": "stream",
     "text": [
      "Model: \"sequential\"\n",
      "_________________________________________________________________\n",
      "Layer (type)                 Output Shape              Param #   \n",
      "=================================================================\n",
      "conv2d (Conv2D)              (None, 26, 26, 32)        320       \n",
      "_________________________________________________________________\n",
      "max_pooling2d (MaxPooling2D) (None, 13, 13, 32)        0         \n",
      "_________________________________________________________________\n",
      "conv2d_1 (Conv2D)            (None, 11, 11, 32)        9248      \n",
      "_________________________________________________________________\n",
      "max_pooling2d_1 (MaxPooling2 (None, 5, 5, 32)          0         \n",
      "_________________________________________________________________\n",
      "conv2d_2 (Conv2D)            (None, 3, 3, 32)          9248      \n",
      "_________________________________________________________________\n",
      "flatten (Flatten)            (None, 288)               0         \n",
      "_________________________________________________________________\n",
      "dense (Dense)                (None, 64)                18496     \n",
      "_________________________________________________________________\n",
      "dense_1 (Dense)              (None, 64)                4160      \n",
      "_________________________________________________________________\n",
      "dense_2 (Dense)              (None, 6)                 390       \n",
      "=================================================================\n",
      "Total params: 41,862\n",
      "Trainable params: 41,862\n",
      "Non-trainable params: 0\n",
      "_________________________________________________________________\n",
      "Epoch 1/50\n",
      "1350/1350 [==============================] - 25s 17ms/step - loss: 0.7961 - accuracy: 0.6627 - val_loss: 0.4516 - val_accuracy: 0.8159\n",
      "Epoch 2/50\n",
      "1350/1350 [==============================] - 24s 18ms/step - loss: 0.4135 - accuracy: 0.8319 - val_loss: 0.3491 - val_accuracy: 0.8619\n",
      "Epoch 3/50\n",
      "1350/1350 [==============================] - 26s 19ms/step - loss: 0.3490 - accuracy: 0.8557 - val_loss: 0.3388 - val_accuracy: 0.8600\n",
      "Epoch 4/50\n",
      "1350/1350 [==============================] - 27s 20ms/step - loss: 0.3148 - accuracy: 0.8729 - val_loss: 0.3150 - val_accuracy: 0.8719\n",
      "Epoch 5/50\n",
      "1350/1350 [==============================] - 26s 19ms/step - loss: 0.2938 - accuracy: 0.8828 - val_loss: 0.3052 - val_accuracy: 0.8764\n",
      "Epoch 6/50\n",
      "1350/1350 [==============================] - 26s 19ms/step - loss: 0.2773 - accuracy: 0.8898 - val_loss: 0.2840 - val_accuracy: 0.8894\n",
      "Epoch 7/50\n",
      "1350/1350 [==============================] - 25s 19ms/step - loss: 0.2576 - accuracy: 0.8970 - val_loss: 0.2890 - val_accuracy: 0.8853\n",
      "Epoch 8/50\n",
      "1350/1350 [==============================] - 26s 19ms/step - loss: 0.2484 - accuracy: 0.8989 - val_loss: 0.2849 - val_accuracy: 0.8864\n",
      "Epoch 9/50\n",
      "1350/1350 [==============================] - 33s 24ms/step - loss: 0.2306 - accuracy: 0.9060 - val_loss: 0.3093 - val_accuracy: 0.8774\n",
      "Epoch 10/50\n",
      "1350/1350 [==============================] - 22s 17ms/step - loss: 0.2251 - accuracy: 0.9113 - val_loss: 0.2634 - val_accuracy: 0.8980\n",
      "Epoch 11/50\n",
      "1350/1350 [==============================] - 23s 17ms/step - loss: 0.2170 - accuracy: 0.9152 - val_loss: 0.3030 - val_accuracy: 0.8832\n",
      "Epoch 12/50\n",
      "1350/1350 [==============================] - 24s 17ms/step - loss: 0.2055 - accuracy: 0.9172 - val_loss: 0.3224 - val_accuracy: 0.8811\n",
      "Epoch 13/50\n",
      "1350/1350 [==============================] - 22s 16ms/step - loss: 0.1999 - accuracy: 0.9223 - val_loss: 0.3003 - val_accuracy: 0.8859\n",
      "Epoch 14/50\n",
      "1350/1350 [==============================] - 23s 17ms/step - loss: 0.1874 - accuracy: 0.9262 - val_loss: 0.2601 - val_accuracy: 0.9019\n",
      "Epoch 15/50\n",
      "1350/1350 [==============================] - 23s 17ms/step - loss: 0.1813 - accuracy: 0.9284 - val_loss: 0.2657 - val_accuracy: 0.8991\n",
      "Epoch 16/50\n",
      "1350/1350 [==============================] - 23s 17ms/step - loss: 0.1705 - accuracy: 0.9311 - val_loss: 0.3190 - val_accuracy: 0.8842\n",
      "Epoch 17/50\n",
      "1350/1350 [==============================] - 28s 21ms/step - loss: 0.1637 - accuracy: 0.9353 - val_loss: 0.2806 - val_accuracy: 0.9031\n",
      "Epoch 18/50\n",
      "1350/1350 [==============================] - 26s 19ms/step - loss: 0.1546 - accuracy: 0.9384 - val_loss: 0.2882 - val_accuracy: 0.8963\n",
      "Epoch 19/50\n",
      "1350/1350 [==============================] - 24s 18ms/step - loss: 0.1586 - accuracy: 0.9368 - val_loss: 0.2703 - val_accuracy: 0.9022\n",
      "Epoch 20/50\n",
      "1350/1350 [==============================] - 22s 16ms/step - loss: 0.1424 - accuracy: 0.9446 - val_loss: 0.2917 - val_accuracy: 0.8953\n",
      "Epoch 21/50\n",
      "1350/1350 [==============================] - 22s 16ms/step - loss: 0.1402 - accuracy: 0.9443 - val_loss: 0.2837 - val_accuracy: 0.9039\n",
      "Epoch 22/50\n",
      "1350/1350 [==============================] - 22s 16ms/step - loss: 0.1391 - accuracy: 0.9462 - val_loss: 0.2927 - val_accuracy: 0.9040\n",
      "Epoch 23/50\n",
      "1350/1350 [==============================] - 22s 16ms/step - loss: 0.1282 - accuracy: 0.9502 - val_loss: 0.3241 - val_accuracy: 0.8990\n",
      "Epoch 24/50\n",
      "1350/1350 [==============================] - 21s 16ms/step - loss: 0.1225 - accuracy: 0.9512 - val_loss: 0.3086 - val_accuracy: 0.9011\n",
      "Epoch 25/50\n",
      "1350/1350 [==============================] - 23s 17ms/step - loss: 0.1233 - accuracy: 0.9512 - val_loss: 0.3327 - val_accuracy: 0.8958\n",
      "Epoch 26/50\n",
      "1350/1350 [==============================] - 23s 17ms/step - loss: 0.1125 - accuracy: 0.9555 - val_loss: 0.3223 - val_accuracy: 0.9000\n",
      "Epoch 27/50\n",
      "1350/1350 [==============================] - 23s 17ms/step - loss: 0.1196 - accuracy: 0.9530 - val_loss: 0.3131 - val_accuracy: 0.9024\n",
      "Epoch 28/50\n",
      "1350/1350 [==============================] - 22s 16ms/step - loss: 0.1130 - accuracy: 0.9566 - val_loss: 0.3075 - val_accuracy: 0.9103\n",
      "Epoch 29/50\n",
      "1350/1350 [==============================] - 25s 18ms/step - loss: 0.1063 - accuracy: 0.9573 - val_loss: 0.3366 - val_accuracy: 0.9030\n",
      "Epoch 30/50\n",
      "1350/1350 [==============================] - 25s 18ms/step - loss: 0.0961 - accuracy: 0.9628 - val_loss: 0.3330 - val_accuracy: 0.9077\n",
      "Epoch 31/50\n",
      "1350/1350 [==============================] - 25s 18ms/step - loss: 0.0959 - accuracy: 0.9624 - val_loss: 0.3839 - val_accuracy: 0.8925\n",
      "Epoch 32/50\n",
      "1350/1350 [==============================] - 26s 19ms/step - loss: 0.0934 - accuracy: 0.9622 - val_loss: 0.3425 - val_accuracy: 0.9024\n",
      "Epoch 33/50\n",
      "1350/1350 [==============================] - 26s 19ms/step - loss: 0.0934 - accuracy: 0.9626 - val_loss: 0.3897 - val_accuracy: 0.8926\n",
      "Epoch 34/50\n",
      "1350/1350 [==============================] - 25s 19ms/step - loss: 0.0939 - accuracy: 0.9635 - val_loss: 0.3686 - val_accuracy: 0.8975\n",
      "Epoch 35/50\n",
      "1350/1350 [==============================] - 25s 18ms/step - loss: 0.0880 - accuracy: 0.9655 - val_loss: 0.3848 - val_accuracy: 0.8939\n",
      "Epoch 36/50\n",
      "1350/1350 [==============================] - 25s 19ms/step - loss: 0.0843 - accuracy: 0.9671 - val_loss: 0.4116 - val_accuracy: 0.8950\n",
      "Epoch 37/50\n",
      "1350/1350 [==============================] - 25s 19ms/step - loss: 0.0798 - accuracy: 0.9698 - val_loss: 0.4197 - val_accuracy: 0.8975\n",
      "Epoch 38/50\n",
      "1350/1350 [==============================] - 26s 19ms/step - loss: 0.0824 - accuracy: 0.9696 - val_loss: 0.3804 - val_accuracy: 0.9039\n",
      "Epoch 39/50\n",
      "1350/1350 [==============================] - 25s 19ms/step - loss: 0.0797 - accuracy: 0.9683 - val_loss: 0.3895 - val_accuracy: 0.9031\n",
      "Epoch 40/50\n",
      "1350/1350 [==============================] - 25s 19ms/step - loss: 0.0735 - accuracy: 0.9712 - val_loss: 0.4083 - val_accuracy: 0.8970\n",
      "Epoch 41/50\n",
      "1350/1350 [==============================] - 27s 20ms/step - loss: 0.0730 - accuracy: 0.9715 - val_loss: 0.4283 - val_accuracy: 0.8951\n",
      "Epoch 42/50\n",
      "1350/1350 [==============================] - 27s 20ms/step - loss: 0.0725 - accuracy: 0.9722 - val_loss: 0.4308 - val_accuracy: 0.8986\n",
      "Epoch 43/50\n",
      "1350/1350 [==============================] - 26s 19ms/step - loss: 0.0733 - accuracy: 0.9713 - val_loss: 0.4293 - val_accuracy: 0.9001\n",
      "Epoch 44/50\n",
      "1350/1350 [==============================] - 26s 20ms/step - loss: 0.0705 - accuracy: 0.9728 - val_loss: 0.4484 - val_accuracy: 0.8969\n",
      "Epoch 45/50\n",
      "1350/1350 [==============================] - 27s 20ms/step - loss: 0.0668 - accuracy: 0.9746 - val_loss: 0.4250 - val_accuracy: 0.8985\n",
      "Epoch 46/50\n"
     ]
    },
    {
     "name": "stdout",
     "output_type": "stream",
     "text": [
      "1350/1350 [==============================] - 26s 19ms/step - loss: 0.0671 - accuracy: 0.9734 - val_loss: 0.4494 - val_accuracy: 0.9008\n",
      "Epoch 47/50\n",
      "1350/1350 [==============================] - 25s 18ms/step - loss: 0.0655 - accuracy: 0.9746 - val_loss: 0.4543 - val_accuracy: 0.8958\n",
      "Epoch 48/50\n",
      "1350/1350 [==============================] - 28s 21ms/step - loss: 0.0654 - accuracy: 0.9741 - val_loss: 0.4901 - val_accuracy: 0.8893\n",
      "Epoch 49/50\n",
      "1350/1350 [==============================] - 27s 20ms/step - loss: 0.0690 - accuracy: 0.9727 - val_loss: 0.5075 - val_accuracy: 0.8925\n",
      "Epoch 50/50\n",
      "1350/1350 [==============================] - 26s 19ms/step - loss: 0.0595 - accuracy: 0.9775 - val_loss: 0.4984 - val_accuracy: 0.8971\n",
      "188/188 [==============================] - 1s 5ms/step - loss: 0.4845 - accuracy: 0.8997\n",
      "0.8996666669845581\n"
     ]
    }
   ],
   "source": [
    "cnn=models.Sequential()\n",
    "cnn.add(layers.Conv2D(32,(3,3),activation='relu',input_shape=(28,28,1)))\n",
    "cnn.add(layers.MaxPooling2D((2,2)))\n",
    "cnn.add(layers.Conv2D(32,(3,3),activation='relu'))\n",
    "cnn.add(layers.MaxPooling2D((2,2)))\n",
    "cnn.add(layers.Conv2D(32,(3,3),activation='relu'))\n",
    "\n",
    "cnn.add(layers.Flatten())\n",
    "cnn.add(layers.Dense(64,activation='relu'))\n",
    "cnn.add(layers.Dense(64,activation='relu'))\n",
    "cnn.add(layers.Dense(6,activation='softmax'))\n",
    "cnn.summary()\n",
    "cnn.compile(optimizer='adam',loss='sparse_categorical_crossentropy',metrics=['accuracy'])\n",
    "fashion_data=fashion_data.reshape((60000,28,28,1))\n",
    "store=cnn.fit(train_data,train_lbl,epochs=50,validation_split=0.2)\n",
    "# train_loss,train_acc=cnn.evaluate(train_data,train_lbl)\n",
    "# print(train_acc)\n",
    "test_loss,test_acc=cnn.evaluate(test_data,test_lbl)\n",
    "print(test_acc)"
   ]
  },
  {
   "cell_type": "code",
   "execution_count": 8,
   "id": "KcKLw_eNZle0",
   "metadata": {
    "colab": {
     "base_uri": "https://localhost:8080/"
    },
    "id": "KcKLw_eNZle0",
    "outputId": "579cfb0c-8f84-40fb-be2d-470b8d43a932"
   },
   "outputs": [
    {
     "name": "stdout",
     "output_type": "stream",
     "text": [
      "188/188 [==============================] - 1s 4ms/step - loss: 0.4845 - accuracy: 0.8997\n",
      "Accuracy of Test: 0.8996666669845581\n",
      "Loss of Test: 0.4845455586910248\n"
     ]
    }
   ],
   "source": [
    "#Test accuracy and Loss\n",
    "test_loss,test_acc=cnn.evaluate(test_data,test_lbl)\n",
    "print('Accuracy of Test:',test_acc)\n",
    "print('Loss of Test:',test_loss)"
   ]
  },
  {
   "cell_type": "code",
   "execution_count": 9,
   "id": "e2c52709",
   "metadata": {
    "colab": {
     "base_uri": "https://localhost:8080/"
    },
    "id": "e2c52709",
    "outputId": "7f02d315-bd13-4d0e-b5f8-e6829ecec5ff"
   },
   "outputs": [
    {
     "data": {
      "text/plain": [
       "['loss', 'accuracy']"
      ]
     },
     "execution_count": 9,
     "metadata": {},
     "output_type": "execute_result"
    }
   ],
   "source": [
    "# Early Fitting\n",
    "class PrintDot(keras.callbacks.Callback):\n",
    "    def on_epoch_end(self,epoch,logs):\n",
    "        if epoch%100==0: print(' ')\n",
    "        print('.',end='')\n",
    "EPOCHS=1000\n",
    "cnn.metrics_names\n",
    "# history=cnn.fit(train_data,train_lbl,epochs=EPOCHS, validation_split=0.2,verbose=0,callbacks=[PrintDot()])"
   ]
  },
  {
   "cell_type": "code",
   "execution_count": 10,
   "id": "pEUXMRBWOxTj",
   "metadata": {
    "colab": {
     "base_uri": "https://localhost:8080/",
     "height": 197
    },
    "id": "pEUXMRBWOxTj",
    "outputId": "e8140510-1087-46a3-cf88-a989f406bc53"
   },
   "outputs": [
    {
     "data": {
      "text/html": [
       "<div>\n",
       "<style scoped>\n",
       "    .dataframe tbody tr th:only-of-type {\n",
       "        vertical-align: middle;\n",
       "    }\n",
       "\n",
       "    .dataframe tbody tr th {\n",
       "        vertical-align: top;\n",
       "    }\n",
       "\n",
       "    .dataframe thead th {\n",
       "        text-align: right;\n",
       "    }\n",
       "</style>\n",
       "<table border=\"1\" class=\"dataframe\">\n",
       "  <thead>\n",
       "    <tr style=\"text-align: right;\">\n",
       "      <th></th>\n",
       "      <th>loss</th>\n",
       "      <th>accuracy</th>\n",
       "      <th>val_loss</th>\n",
       "      <th>val_accuracy</th>\n",
       "      <th>epoch</th>\n",
       "    </tr>\n",
       "  </thead>\n",
       "  <tbody>\n",
       "    <tr>\n",
       "      <th>45</th>\n",
       "      <td>0.072565</td>\n",
       "      <td>0.971667</td>\n",
       "      <td>0.449366</td>\n",
       "      <td>0.900833</td>\n",
       "      <td>45</td>\n",
       "    </tr>\n",
       "    <tr>\n",
       "      <th>46</th>\n",
       "      <td>0.072812</td>\n",
       "      <td>0.971898</td>\n",
       "      <td>0.454290</td>\n",
       "      <td>0.895833</td>\n",
       "      <td>46</td>\n",
       "    </tr>\n",
       "    <tr>\n",
       "      <th>47</th>\n",
       "      <td>0.069434</td>\n",
       "      <td>0.972963</td>\n",
       "      <td>0.490053</td>\n",
       "      <td>0.889259</td>\n",
       "      <td>47</td>\n",
       "    </tr>\n",
       "    <tr>\n",
       "      <th>48</th>\n",
       "      <td>0.072118</td>\n",
       "      <td>0.971250</td>\n",
       "      <td>0.507479</td>\n",
       "      <td>0.892500</td>\n",
       "      <td>48</td>\n",
       "    </tr>\n",
       "    <tr>\n",
       "      <th>49</th>\n",
       "      <td>0.066540</td>\n",
       "      <td>0.974722</td>\n",
       "      <td>0.498389</td>\n",
       "      <td>0.897130</td>\n",
       "      <td>49</td>\n",
       "    </tr>\n",
       "  </tbody>\n",
       "</table>\n",
       "</div>"
      ],
      "text/plain": [
       "        loss  accuracy  val_loss  val_accuracy  epoch\n",
       "45  0.072565  0.971667  0.449366      0.900833     45\n",
       "46  0.072812  0.971898  0.454290      0.895833     46\n",
       "47  0.069434  0.972963  0.490053      0.889259     47\n",
       "48  0.072118  0.971250  0.507479      0.892500     48\n",
       "49  0.066540  0.974722  0.498389      0.897130     49"
      ]
     },
     "execution_count": 10,
     "metadata": {},
     "output_type": "execute_result"
    }
   ],
   "source": [
    "hist=pd.DataFrame(store.history)\n",
    "hist['epoch']=store.epoch\n",
    "hist.tail()"
   ]
  },
  {
   "cell_type": "markdown",
   "id": "DMXNqB3XYtUV",
   "metadata": {
    "id": "DMXNqB3XYtUV"
   },
   "source": [
    "#### Runtime Performance after 50 epoch:\n",
    "* Validation Set Accuracy: 0.89\n",
    "* Validation Set Loss Error: 0.43\n",
    "* Training Set Accuracy: 0.96\n",
    "* Training Loss Error: 0.08\n",
    "* Test Data Accuracy:0.89\n",
    "* Test Data Loss Error: 0.56\n"
   ]
  },
  {
   "cell_type": "code",
   "execution_count": 11,
   "id": "2fc8d2da",
   "metadata": {
    "colab": {
     "base_uri": "https://localhost:8080/",
     "height": 541
    },
    "id": "2fc8d2da",
    "outputId": "bbe7ca06-6de9-497c-ef15-85b88675f07b"
   },
   "outputs": [
    {
     "data": {
      "image/png": "[encoded data removed]",
      "text/plain": [
       "<Figure size 432x288 with 1 Axes>"
      ]
     },
     "metadata": {
      "needs_background": "light"
     },
     "output_type": "display_data"
    },
    {
     "data": {
      "image/png": "[encoded data removed]",
      "text/plain": [
       "<Figure size 432x288 with 1 Axes>"
      ]
     },
     "metadata": {
      "needs_background": "light"
     },
     "output_type": "display_data"
    }
   ],
   "source": [
    "def plot_history(store):\n",
    "  hist=pd.DataFrame(store.history)\n",
    "  hist['epoch']=store.epoch\n",
    "  plt.figure()\n",
    "  plt.xlabel('Epoch')\n",
    "  plt.ylabel('Accuracy')\n",
    "  plt.plot(hist['epoch'],hist['accuracy'],label=\"Train Accuracy\")\n",
    "  plt.plot(hist['epoch'],hist['val_accuracy'],label=\"Validation Accuracy\")\n",
    "  plt.legend()\n",
    "  plt.figure()\n",
    "  plt.xlabel('Epoch')\n",
    "  plt.ylabel('Loss Function')\n",
    "  plt.plot(hist['epoch'],hist['loss'],label=\"Train Loss\")\n",
    "  plt.plot(hist['epoch'],hist['val_loss'],label=\"Validation Loss\")\n",
    "  plt.legend()\n",
    "  plt.show()\n",
    "\n",
    "plot_history(store)"
   ]
  },
  {
   "cell_type": "markdown",
   "id": "0pyNqayvVnuG",
   "metadata": {
    "id": "0pyNqayvVnuG"
   },
   "source": [
    "In above 2 plots I can clearly see that between 10 to 20 epoch value the validation loss error is minimum and after that loss error started increasing.\n",
    "\n",
    "So now I will apply Early Stopping Regularization to stop the training once the validation loss started increasing instead of decreasing. This will avoid the overfitting the network. "
   ]
  },
  {
   "cell_type": "code",
   "execution_count": 12,
   "id": "O1WYydEsjU2_",
   "metadata": {
    "colab": {
     "base_uri": "https://localhost:8080/",
     "height": 1000
    },
    "id": "O1WYydEsjU2_",
    "outputId": "5848bef8-58b9-47d3-a3e7-523475cc42d4"
   },
   "outputs": [
    {
     "name": "stdout",
     "output_type": "stream",
     "text": [
      "Model: \"sequential_1\"\n",
      "_________________________________________________________________\n",
      "Layer (type)                 Output Shape              Param #   \n",
      "=================================================================\n",
      "conv2d_3 (Conv2D)            (None, 26, 26, 32)        320       \n",
      "_________________________________________________________________\n",
      "max_pooling2d_2 (MaxPooling2 (None, 13, 13, 32)        0         \n",
      "_________________________________________________________________\n",
      "conv2d_4 (Conv2D)            (None, 11, 11, 32)        9248      \n",
      "_________________________________________________________________\n",
      "max_pooling2d_3 (MaxPooling2 (None, 5, 5, 32)          0         \n",
      "_________________________________________________________________\n",
      "conv2d_5 (Conv2D)            (None, 3, 3, 32)          9248      \n",
      "_________________________________________________________________\n",
      "flatten_1 (Flatten)          (None, 288)               0         \n",
      "_________________________________________________________________\n",
      "dense_3 (Dense)              (None, 64)                18496     \n",
      "_________________________________________________________________\n",
      "dense_4 (Dense)              (None, 64)                4160      \n",
      "_________________________________________________________________\n",
      "dense_5 (Dense)              (None, 6)                 390       \n",
      "=================================================================\n",
      "Total params: 41,862\n",
      "Trainable params: 41,862\n",
      "Non-trainable params: 0\n",
      "_________________________________________________________________\n",
      "Epoch 1/50\n",
      "1350/1350 [==============================] - 27s 19ms/step - loss: 0.8240 - accuracy: 0.6533 - val_loss: 0.5072 - val_accuracy: 0.7961\n",
      "Epoch 2/50\n",
      "1350/1350 [==============================] - 24s 18ms/step - loss: 0.4307 - accuracy: 0.8251 - val_loss: 0.3664 - val_accuracy: 0.8553\n",
      "Epoch 3/50\n",
      "1350/1350 [==============================] - 24s 18ms/step - loss: 0.3619 - accuracy: 0.8508 - val_loss: 0.3232 - val_accuracy: 0.8763\n",
      "Epoch 4/50\n",
      "1350/1350 [==============================] - 24s 18ms/step - loss: 0.3366 - accuracy: 0.8640 - val_loss: 0.3542 - val_accuracy: 0.8585\n",
      "Epoch 5/50\n",
      "1350/1350 [==============================] - 24s 17ms/step - loss: 0.3016 - accuracy: 0.8788 - val_loss: 0.2998 - val_accuracy: 0.8794\n",
      "Epoch 6/50\n",
      "1350/1350 [==============================] - 26s 20ms/step - loss: 0.2790 - accuracy: 0.8881 - val_loss: 0.2868 - val_accuracy: 0.8835\n",
      "Epoch 7/50\n",
      "1350/1350 [==============================] - 24s 18ms/step - loss: 0.2649 - accuracy: 0.8929 - val_loss: 0.2781 - val_accuracy: 0.8912\n",
      "Epoch 8/50\n",
      "1350/1350 [==============================] - 25s 19ms/step - loss: 0.2469 - accuracy: 0.8995 - val_loss: 0.3376 - val_accuracy: 0.8672\n",
      "Epoch 9/50\n",
      "1350/1350 [==============================] - 26s 20ms/step - loss: 0.2312 - accuracy: 0.9071 - val_loss: 0.2856 - val_accuracy: 0.8859\n",
      "Epoch 10/50\n",
      "1350/1350 [==============================] - 23s 17ms/step - loss: 0.2246 - accuracy: 0.9101 - val_loss: 0.3073 - val_accuracy: 0.8806\n",
      "Epoch 11/50\n",
      "1350/1350 [==============================] - 23s 17ms/step - loss: 0.2159 - accuracy: 0.9136 - val_loss: 0.2701 - val_accuracy: 0.8957\n",
      "Epoch 12/50\n",
      "1350/1350 [==============================] - 24s 18ms/step - loss: 0.2049 - accuracy: 0.9191 - val_loss: 0.2567 - val_accuracy: 0.9008\n",
      "Epoch 13/50\n",
      "1350/1350 [==============================] - 24s 17ms/step - loss: 0.1911 - accuracy: 0.9238 - val_loss: 0.2542 - val_accuracy: 0.9014\n",
      "Epoch 14/50\n",
      "1350/1350 [==============================] - 24s 18ms/step - loss: 0.1884 - accuracy: 0.9263 - val_loss: 0.2633 - val_accuracy: 0.9050\n",
      "Epoch 15/50\n",
      "1350/1350 [==============================] - 24s 18ms/step - loss: 0.1828 - accuracy: 0.9271 - val_loss: 0.4027 - val_accuracy: 0.8589\n",
      "Epoch 16/50\n",
      "1350/1350 [==============================] - 25s 19ms/step - loss: 0.1800 - accuracy: 0.9295 - val_loss: 0.2924 - val_accuracy: 0.8891\n",
      "Epoch 17/50\n",
      "1350/1350 [==============================] - 26s 19ms/step - loss: 0.1690 - accuracy: 0.9309 - val_loss: 0.2583 - val_accuracy: 0.9106\n",
      "Epoch 18/50\n",
      "1350/1350 [==============================] - 26s 19ms/step - loss: 0.1680 - accuracy: 0.9329 - val_loss: 0.2589 - val_accuracy: 0.9082\n",
      "Epoch 19/50\n",
      "1350/1350 [==============================] - 27s 20ms/step - loss: 0.1546 - accuracy: 0.9396 - val_loss: 0.2834 - val_accuracy: 0.8994\n",
      "Epoch 20/50\n",
      "1350/1350 [==============================] - 29s 21ms/step - loss: 0.1510 - accuracy: 0.9411 - val_loss: 0.2807 - val_accuracy: 0.9016\n",
      "Epoch 21/50\n",
      "1350/1350 [==============================] - 30s 22ms/step - loss: 0.1422 - accuracy: 0.9418 - val_loss: 0.2679 - val_accuracy: 0.9092\n",
      "Epoch 22/50\n",
      "1350/1350 [==============================] - 28s 20ms/step - loss: 0.1390 - accuracy: 0.9452 - val_loss: 0.2908 - val_accuracy: 0.9009\n",
      "Epoch 23/50\n",
      "1350/1350 [==============================] - 27s 20ms/step - loss: 0.1342 - accuracy: 0.9451 - val_loss: 0.2662 - val_accuracy: 0.9100\n",
      "188/188 [==============================] - 1s 4ms/step - loss: 0.2827 - accuracy: 0.9085\n",
      "Accuracy of Test Set: 0.9085000157356262\n",
      "Loss of Test Set: 0.28266116976737976\n"
     ]
    },
    {
     "data": {
      "image/png": "[encoded data removed]",
      "text/plain": [
       "<Figure size 432x288 with 1 Axes>"
      ]
     },
     "metadata": {
      "needs_background": "light"
     },
     "output_type": "display_data"
    },
    {
     "data": {
      "image/png": "[encoded data removed]",
      "text/plain": [
       "<Figure size 432x288 with 1 Axes>"
      ]
     },
     "metadata": {
      "needs_background": "light"
     },
     "output_type": "display_data"
    }
   ],
   "source": [
    "cnn1=models.Sequential()\n",
    "cnn1.add(layers.Conv2D(32,(3,3),activation='relu',input_shape=(28,28,1)))\n",
    "cnn1.add(layers.MaxPooling2D((2,2)))\n",
    "cnn1.add(layers.Conv2D(32,(3,3),activation='relu'))\n",
    "cnn1.add(layers.MaxPooling2D((2,2)))\n",
    "cnn1.add(layers.Conv2D(32,(3,3),activation='relu'))\n",
    "\n",
    "cnn1.add(layers.Flatten())\n",
    "cnn1.add(layers.Dense(64,activation='relu'))\n",
    "cnn1.add(layers.Dense(64,activation='relu'))\n",
    "cnn1.add(layers.Dense(6,activation='softmax'))\n",
    "cnn1.summary()\n",
    "cnn1.compile(optimizer='adam',loss='sparse_categorical_crossentropy',metrics=['accuracy'])\n",
    "fashion_data=fashion_data.reshape((60000,28,28,1))\n",
    "store1=cnn1.fit(train_data,train_lbl,epochs=50,validation_split=0.2,callbacks = [keras.callbacks.EarlyStopping(monitor='val_loss', patience=10)])\n",
    "# train_loss,train_acc=cnn.evaluate(train_data,train_lbl)\n",
    "# print(train_acc)\n",
    "test_loss1,test_acc1=cnn1.evaluate(test_data,test_lbl)\n",
    "print('Accuracy of Test Set:',test_acc1)\n",
    "print('Loss of Test Set:',test_loss1)\n",
    "# early_stop=keras.callbacks.EarlyStopping(monitor='val_loss',patience=10)\n",
    "# store1=cnn.fit(train_data,train_lbl,epochs=100,validation_split=0.2,verbose=1,callbacks=[early_stop])\n",
    "plot_history(store1)"
   ]
  },
  {
   "cell_type": "markdown",
   "id": "1GPsO-0oYIF9",
   "metadata": {
    "id": "1GPsO-0oYIF9"
   },
   "source": [
    "After epoch 23 we stoped training the data. As futhur I said after 20 to 25 epoch, the loss is increasing. So It stopped training after that."
   ]
  },
  {
   "cell_type": "markdown",
   "id": "CWTHi2lFaHPJ",
   "metadata": {
    "id": "CWTHi2lFaHPJ"
   },
   "source": [
    "# After Applying Early Stopping \n",
    "We get better runtime performance in less number of epoch.\n",
    "\n",
    "Runtime performance **before** Early Stopping Regularization:\n",
    "* Number of Epochs: **50**\n",
    "* Validation Set Accuracy: 0.89\n",
    "* Validation Set Loss Error: 0.43\n",
    "* Training Set Accuracy: 0.96\n",
    "* Training Loss Error: 0.08\n",
    "* Test Data Accuracy: **0.89**\n",
    "* Test Data Loss Error: **0.56**\n",
    "\n",
    "Runtime performance **after** Early Stopping Regularization:\n",
    "* Number of Epochs: **23**\n",
    "* Validation Set Accuracy: 0.90\n",
    "* Validation Set Loss Error: 0.31\n",
    "* Training Set Accuracy: 0.95\n",
    "* Training Loss Error: 0.10\n",
    "* Test Data Accuracy: **0.90**\n",
    "* Test Data Loss Error: **0.33**\n",
    "\n",
    "So I can clearly see that Early Stopping Regularization, helped the training data to avoid overfitting and imporoved Test set accuracy and reduced loss error from test set also.\n"
   ]
  },
  {
   "cell_type": "code",
   "execution_count": 14,
   "id": "0WyBlG2CsTow",
   "metadata": {
    "colab": {
     "base_uri": "https://localhost:8080/",
     "height": 279
    },
    "id": "0WyBlG2CsTow",
    "outputId": "4e745f77-7070-4fb0-f42f-c893b3e28a31"
   },
   "outputs": [
    {
     "data": {
      "image/png": "[encoded data removed]",
      "text/plain": [
       "<Figure size 432x288 with 1 Axes>"
      ]
     },
     "metadata": {
      "needs_background": "light"
     },
     "output_type": "display_data"
    }
   ],
   "source": [
    "def plot_his2(store):\n",
    "  hist=pd.DataFrame(store.history)\n",
    "  hist['epoch']=store.epoch\n",
    "  plt.figure()\n",
    "  plt.xlabel('Loss Function')\n",
    "  plt.ylabel('Accuracy')\n",
    "  plt.plot(hist['loss'],hist['accuracy'],label=\"Train Accuracy vs Loss\")\n",
    "#   plt.plot(hist['val_loss'],hist['val_accuracy'],label=\"Validation Accuracy vs Loss\")\n",
    "  plt.legend()\n",
    "  # plt.figure()\n",
    "  # plt.xlabel('Epoch')\n",
    "  # plt.ylabel('Loss Function')\n",
    "  # plt.plot(hist['epoch'],hist['loss'],label=\"Train Loss\")\n",
    "  # plt.plot(hist['epoch'],hist['val_loss'],label=\"Validation Loss\")\n",
    "  # plt.legend()\n",
    "  plt.show()\n",
    "\n",
    "plot_his2(store1)"
   ]
  },
  {
   "cell_type": "markdown",
   "id": "Oqi-8ftXcU6X",
   "metadata": {
    "id": "Oqi-8ftXcU6X"
   },
   "source": [
    "From this plot I can say that when if loss decreases then accuracy increases. We can see this more clearly into Training dataset accuracy vs Loss line."
   ]
  },
  {
   "cell_type": "markdown",
   "id": "EOnLZzvgc5Ti",
   "metadata": {
    "id": "EOnLZzvgc5Ti"
   },
   "source": [
    "For the more beneficial result, we can try Resnet neural network. \n",
    "\n",
    "References: https://nptel.ac.in/courses/106/106/106106213/"
   ]
  },
  {
   "cell_type": "code",
   "execution_count": null,
   "id": "6eb4bc79",
   "metadata": {},
   "outputs": [],
   "source": []
  }
 ],
 "metadata": {
  "accelerator": "GPU",
  "colab": {
   "collapsed_sections": [],
   "name": "cnn1.ipynb",
   "provenance": []
  },
  "kernelspec": {
   "display_name": "Python 3",
   "language": "python",
   "name": "python3"
  },
  "language_info": {
   "codemirror_mode": {
    "name": "ipython",
    "version": 3
   },
   "file_extension": ".py",
   "mimetype": "text/x-python",
   "name": "python",
   "nbconvert_exporter": "python",
   "pygments_lexer": "ipython3",
   "version": "3.8.5"
  }
 },
 "nbformat": 4,
 "nbformat_minor": 5
}
